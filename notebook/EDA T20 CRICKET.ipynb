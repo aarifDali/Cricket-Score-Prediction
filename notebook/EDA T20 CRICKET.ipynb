{
 "cells": [
  {
   "cell_type": "code",
   "execution_count": 1,
   "id": "183a651a",
   "metadata": {},
   "outputs": [],
   "source": [
    "import pandas as pd\n",
    "import numpy as np\n",
    "import pickle\n",
    "import matplotlib.pyplot as plt\n",
    "import seaborn as sns"
   ]
  },
  {
   "cell_type": "code",
   "execution_count": 122,
   "id": "aa96bb26",
   "metadata": {},
   "outputs": [],
   "source": [
    "data = pickle.load(open('EDA_t20_data.pkl', 'rb'))"
   ]
  },
  {
   "cell_type": "markdown",
   "id": "1bfc0a0e",
   "metadata": {},
   "source": [
    "## Sample 5 records"
   ]
  },
  {
   "cell_type": "code",
   "execution_count": 123,
   "id": "0ee7e596",
   "metadata": {},
   "outputs": [
    {
     "data": {
      "text/html": [
       "<div>\n",
       "<style scoped>\n",
       "    .dataframe tbody tr th:only-of-type {\n",
       "        vertical-align: middle;\n",
       "    }\n",
       "\n",
       "    .dataframe tbody tr th {\n",
       "        vertical-align: top;\n",
       "    }\n",
       "\n",
       "    .dataframe thead th {\n",
       "        text-align: right;\n",
       "    }\n",
       "</style>\n",
       "<table border=\"1\" class=\"dataframe\">\n",
       "  <thead>\n",
       "    <tr style=\"text-align: right;\">\n",
       "      <th></th>\n",
       "      <th>batting_team</th>\n",
       "      <th>bowling_team</th>\n",
       "      <th>city</th>\n",
       "      <th>current_score</th>\n",
       "      <th>balls_left</th>\n",
       "      <th>wickets_left</th>\n",
       "      <th>crr</th>\n",
       "      <th>last_five</th>\n",
       "      <th>total_runs</th>\n",
       "      <th>year</th>\n",
       "    </tr>\n",
       "  </thead>\n",
       "  <tbody>\n",
       "    <tr>\n",
       "      <th>31955</th>\n",
       "      <td>India</td>\n",
       "      <td>England</td>\n",
       "      <td>Colombo</td>\n",
       "      <td>125</td>\n",
       "      <td>22</td>\n",
       "      <td>7</td>\n",
       "      <td>7.653061</td>\n",
       "      <td>41.0</td>\n",
       "      <td>170</td>\n",
       "      <td>2012</td>\n",
       "    </tr>\n",
       "    <tr>\n",
       "      <th>30065</th>\n",
       "      <td>New Zealand</td>\n",
       "      <td>South Africa</td>\n",
       "      <td>Hamilton</td>\n",
       "      <td>80</td>\n",
       "      <td>59</td>\n",
       "      <td>9</td>\n",
       "      <td>7.868852</td>\n",
       "      <td>36.0</td>\n",
       "      <td>173</td>\n",
       "      <td>2012</td>\n",
       "    </tr>\n",
       "    <tr>\n",
       "      <th>44052</th>\n",
       "      <td>Pakistan</td>\n",
       "      <td>Bangladesh</td>\n",
       "      <td>Mirpur</td>\n",
       "      <td>119</td>\n",
       "      <td>19</td>\n",
       "      <td>7</td>\n",
       "      <td>7.069307</td>\n",
       "      <td>43.0</td>\n",
       "      <td>141</td>\n",
       "      <td>2015</td>\n",
       "    </tr>\n",
       "    <tr>\n",
       "      <th>16314</th>\n",
       "      <td>Bangladesh</td>\n",
       "      <td>Australia</td>\n",
       "      <td>Cape Town</td>\n",
       "      <td>31</td>\n",
       "      <td>83</td>\n",
       "      <td>10</td>\n",
       "      <td>5.027027</td>\n",
       "      <td>28.0</td>\n",
       "      <td>123</td>\n",
       "      <td>2007</td>\n",
       "    </tr>\n",
       "    <tr>\n",
       "      <th>12369</th>\n",
       "      <td>Pakistan</td>\n",
       "      <td>England</td>\n",
       "      <td>Manchester</td>\n",
       "      <td>100</td>\n",
       "      <td>54</td>\n",
       "      <td>8</td>\n",
       "      <td>9.090909</td>\n",
       "      <td>52.0</td>\n",
       "      <td>190</td>\n",
       "      <td>2020</td>\n",
       "    </tr>\n",
       "  </tbody>\n",
       "</table>\n",
       "</div>"
      ],
      "text/plain": [
       "      batting_team  bowling_team        city  current_score  balls_left  \\\n",
       "31955        India       England     Colombo            125          22   \n",
       "30065  New Zealand  South Africa    Hamilton             80          59   \n",
       "44052     Pakistan    Bangladesh      Mirpur            119          19   \n",
       "16314   Bangladesh     Australia   Cape Town             31          83   \n",
       "12369     Pakistan       England  Manchester            100          54   \n",
       "\n",
       "       wickets_left       crr  last_five  total_runs  year  \n",
       "31955             7  7.653061       41.0         170  2012  \n",
       "30065             9  7.868852       36.0         173  2012  \n",
       "44052             7  7.069307       43.0         141  2015  \n",
       "16314            10  5.027027       28.0         123  2007  \n",
       "12369             8  9.090909       52.0         190  2020  "
      ]
     },
     "execution_count": 123,
     "metadata": {},
     "output_type": "execute_result"
    }
   ],
   "source": [
    "data.head()"
   ]
  },
  {
   "cell_type": "markdown",
   "id": "91c18156",
   "metadata": {},
   "source": [
    "#### Shape of the Dataset"
   ]
  },
  {
   "cell_type": "code",
   "execution_count": 8,
   "id": "a678f9d6",
   "metadata": {},
   "outputs": [
    {
     "data": {
      "text/plain": [
       "(38477, 10)"
      ]
     },
     "execution_count": 8,
     "metadata": {},
     "output_type": "execute_result"
    }
   ],
   "source": [
    "data.shape"
   ]
  },
  {
   "cell_type": "markdown",
   "id": "18026f4e",
   "metadata": {},
   "source": [
    "### Dataset Information"
   ]
  },
  {
   "cell_type": "markdown",
   "id": "eeae66b7",
   "metadata": {},
   "source": [
    "- batting_team/bowling_team -> Teams which is batting/bowling\n",
    "- city -> City in which match conducted\n",
    "- current_score -> Runs scored by the batting_team at the moment\n",
    "- balls_left -> Remaining bowls to be bowled\n",
    "- wickets_left -> Wickets remaining for batting_team\n",
    "- crr -> Runrate of the innings\n",
    "- last_five -> Runs scored by the batting_team in the last 5 overs(30 balls)\n",
    "- total_runs -> total runs scored by the batting_time by the end of their innings\n",
    "- year -> Year in which match happened"
   ]
  },
  {
   "cell_type": "code",
   "execution_count": 10,
   "id": "a855ee5b",
   "metadata": {},
   "outputs": [
    {
     "data": {
      "text/plain": [
       "batting_team     0\n",
       "bowling_team     0\n",
       "city             0\n",
       "current_score    0\n",
       "balls_left       0\n",
       "wickets_left     0\n",
       "crr              0\n",
       "last_five        0\n",
       "total_runs       0\n",
       "year             0\n",
       "dtype: int64"
      ]
     },
     "execution_count": 10,
     "metadata": {},
     "output_type": "execute_result"
    }
   ],
   "source": [
    "data.isnull().sum()"
   ]
  },
  {
   "cell_type": "markdown",
   "id": "e1397046",
   "metadata": {},
   "source": [
    "There are no missing values"
   ]
  },
  {
   "cell_type": "markdown",
   "id": "b76f7465",
   "metadata": {},
   "source": [
    "## Check Data Types"
   ]
  },
  {
   "cell_type": "code",
   "execution_count": 16,
   "id": "6e2ac99a",
   "metadata": {},
   "outputs": [
    {
     "data": {
      "text/plain": [
       "batting_team      object\n",
       "bowling_team      object\n",
       "city              object\n",
       "current_score      int64\n",
       "balls_left         int64\n",
       "wickets_left       int32\n",
       "crr              float64\n",
       "last_five        float64\n",
       "total_runs         int64\n",
       "year               int32\n",
       "dtype: object"
      ]
     },
     "execution_count": 16,
     "metadata": {},
     "output_type": "execute_result"
    }
   ],
   "source": [
    "data.dtypes"
   ]
  },
  {
   "cell_type": "markdown",
   "id": "29f12b6b",
   "metadata": {},
   "source": [
    "## Check Unique values"
   ]
  },
  {
   "cell_type": "code",
   "execution_count": 18,
   "id": "dbbfc48f",
   "metadata": {},
   "outputs": [
    {
     "data": {
      "text/plain": [
       "batting_team       10\n",
       "bowling_team       10\n",
       "city               35\n",
       "current_score     241\n",
       "balls_left         99\n",
       "wickets_left       11\n",
       "crr              5506\n",
       "last_five          78\n",
       "total_runs        134\n",
       "year               16\n",
       "dtype: int64"
      ]
     },
     "execution_count": 18,
     "metadata": {},
     "output_type": "execute_result"
    }
   ],
   "source": [
    "data.nunique()"
   ]
  },
  {
   "cell_type": "code",
   "execution_count": 19,
   "id": "9dd13aff",
   "metadata": {},
   "outputs": [
    {
     "data": {
      "text/html": [
       "<div>\n",
       "<style scoped>\n",
       "    .dataframe tbody tr th:only-of-type {\n",
       "        vertical-align: middle;\n",
       "    }\n",
       "\n",
       "    .dataframe tbody tr th {\n",
       "        vertical-align: top;\n",
       "    }\n",
       "\n",
       "    .dataframe thead th {\n",
       "        text-align: right;\n",
       "    }\n",
       "</style>\n",
       "<table border=\"1\" class=\"dataframe\">\n",
       "  <thead>\n",
       "    <tr style=\"text-align: right;\">\n",
       "      <th></th>\n",
       "      <th>current_score</th>\n",
       "      <th>balls_left</th>\n",
       "      <th>wickets_left</th>\n",
       "      <th>crr</th>\n",
       "      <th>last_five</th>\n",
       "      <th>total_runs</th>\n",
       "      <th>year</th>\n",
       "    </tr>\n",
       "  </thead>\n",
       "  <tbody>\n",
       "    <tr>\n",
       "      <th>count</th>\n",
       "      <td>38477.000000</td>\n",
       "      <td>38477.000000</td>\n",
       "      <td>38477.000000</td>\n",
       "      <td>38477.000000</td>\n",
       "      <td>38477.000000</td>\n",
       "      <td>38477.000000</td>\n",
       "      <td>38477.000000</td>\n",
       "    </tr>\n",
       "    <tr>\n",
       "      <th>mean</th>\n",
       "      <td>94.122541</td>\n",
       "      <td>45.881514</td>\n",
       "      <td>6.737428</td>\n",
       "      <td>7.567335</td>\n",
       "      <td>38.523248</td>\n",
       "      <td>160.132001</td>\n",
       "      <td>2013.563583</td>\n",
       "    </tr>\n",
       "    <tr>\n",
       "      <th>std</th>\n",
       "      <td>41.626571</td>\n",
       "      <td>26.548397</td>\n",
       "      <td>2.031181</td>\n",
       "      <td>1.719908</td>\n",
       "      <td>11.808327</td>\n",
       "      <td>32.052503</td>\n",
       "      <td>3.971909</td>\n",
       "    </tr>\n",
       "    <tr>\n",
       "      <th>min</th>\n",
       "      <td>12.000000</td>\n",
       "      <td>0.000000</td>\n",
       "      <td>0.000000</td>\n",
       "      <td>2.270270</td>\n",
       "      <td>10.000000</td>\n",
       "      <td>72.000000</td>\n",
       "      <td>2005.000000</td>\n",
       "    </tr>\n",
       "    <tr>\n",
       "      <th>25%</th>\n",
       "      <td>61.000000</td>\n",
       "      <td>23.000000</td>\n",
       "      <td>5.000000</td>\n",
       "      <td>6.371681</td>\n",
       "      <td>30.000000</td>\n",
       "      <td>139.000000</td>\n",
       "      <td>2010.000000</td>\n",
       "    </tr>\n",
       "    <tr>\n",
       "      <th>50%</th>\n",
       "      <td>89.000000</td>\n",
       "      <td>46.000000</td>\n",
       "      <td>7.000000</td>\n",
       "      <td>7.500000</td>\n",
       "      <td>38.000000</td>\n",
       "      <td>159.000000</td>\n",
       "      <td>2014.000000</td>\n",
       "    </tr>\n",
       "    <tr>\n",
       "      <th>75%</th>\n",
       "      <td>123.000000</td>\n",
       "      <td>69.000000</td>\n",
       "      <td>8.000000</td>\n",
       "      <td>8.625000</td>\n",
       "      <td>46.000000</td>\n",
       "      <td>182.000000</td>\n",
       "      <td>2017.000000</td>\n",
       "    </tr>\n",
       "    <tr>\n",
       "      <th>max</th>\n",
       "      <td>263.000000</td>\n",
       "      <td>98.000000</td>\n",
       "      <td>10.000000</td>\n",
       "      <td>16.600000</td>\n",
       "      <td>89.000000</td>\n",
       "      <td>263.000000</td>\n",
       "      <td>2020.000000</td>\n",
       "    </tr>\n",
       "  </tbody>\n",
       "</table>\n",
       "</div>"
      ],
      "text/plain": [
       "       current_score    balls_left  wickets_left           crr     last_five  \\\n",
       "count   38477.000000  38477.000000  38477.000000  38477.000000  38477.000000   \n",
       "mean       94.122541     45.881514      6.737428      7.567335     38.523248   \n",
       "std        41.626571     26.548397      2.031181      1.719908     11.808327   \n",
       "min        12.000000      0.000000      0.000000      2.270270     10.000000   \n",
       "25%        61.000000     23.000000      5.000000      6.371681     30.000000   \n",
       "50%        89.000000     46.000000      7.000000      7.500000     38.000000   \n",
       "75%       123.000000     69.000000      8.000000      8.625000     46.000000   \n",
       "max       263.000000     98.000000     10.000000     16.600000     89.000000   \n",
       "\n",
       "         total_runs          year  \n",
       "count  38477.000000  38477.000000  \n",
       "mean     160.132001   2013.563583  \n",
       "std       32.052503      3.971909  \n",
       "min       72.000000   2005.000000  \n",
       "25%      139.000000   2010.000000  \n",
       "50%      159.000000   2014.000000  \n",
       "75%      182.000000   2017.000000  \n",
       "max      263.000000   2020.000000  "
      ]
     },
     "execution_count": 19,
     "metadata": {},
     "output_type": "execute_result"
    }
   ],
   "source": [
    "data.describe()"
   ]
  },
  {
   "cell_type": "markdown",
   "id": "efe6f4a6",
   "metadata": {},
   "source": [
    "#### - Most runs scored by a team in one Innings is 263\n",
    "#### - Least runs scored by a team in one Innings is 72\n",
    "#### - Data consist of matches happend in 15 Years (2005 - 2020)"
   ]
  },
  {
   "cell_type": "markdown",
   "id": "b5aa674b",
   "metadata": {},
   "source": [
    "### Teams that are considered in the Dataset\n"
   ]
  },
  {
   "cell_type": "code",
   "execution_count": 20,
   "id": "9df95fa0",
   "metadata": {},
   "outputs": [
    {
     "data": {
      "text/plain": [
       "array(['India', 'New Zealand', 'Pakistan', 'Bangladesh', 'Sri Lanka',\n",
       "       'West Indies', 'Australia', 'South Africa', 'Afghanistan',\n",
       "       'England'], dtype=object)"
      ]
     },
     "execution_count": 20,
     "metadata": {},
     "output_type": "execute_result"
    }
   ],
   "source": [
    "data['batting_team'].unique()"
   ]
  },
  {
   "cell_type": "code",
   "execution_count": 25,
   "id": "d9af000b",
   "metadata": {},
   "outputs": [
    {
     "data": {
      "image/png": "[encoded data removed]",
      "text/plain": [
       "<Figure size 1500x700 with 1 Axes>"
      ]
     },
     "metadata": {},
     "output_type": "display_data"
    }
   ],
   "source": [
    "fig, axs = plt.subplots( figsize=(15, 7))\n",
    "sns.histplot(data=data,x='total_runs',bins=30,kde=True,color='g')\n",
    "plt.show()"
   ]
  },
  {
   "cell_type": "code",
   "execution_count": 30,
   "id": "ba5c7de0",
   "metadata": {},
   "outputs": [
    {
     "data": {
      "image/png": "[encoded data removed]",
      "text/plain": [
       "<Figure size 1500x800 with 1 Axes>"
      ]
     },
     "metadata": {},
     "output_type": "display_data"
    }
   ],
   "source": [
    "fig, axs = plt.subplots( figsize=(15, 8))\n",
    "sns.histplot(data=data,x='year',bins=15,kde=True,color='g')\n",
    "plt.show()"
   ]
  },
  {
   "cell_type": "markdown",
   "id": "9b1f1796",
   "metadata": {},
   "source": [
    "### Most matches happened in the year 2016"
   ]
  },
  {
   "cell_type": "code",
   "execution_count": 31,
   "id": "7d8c254b",
   "metadata": {},
   "outputs": [
    {
     "data": {
      "text/plain": [
       "50351"
      ]
     },
     "execution_count": 31,
     "metadata": {},
     "output_type": "execute_result"
    }
   ],
   "source": [
    "data['total_runs'].idxmax()"
   ]
  },
  {
   "cell_type": "code",
   "execution_count": 46,
   "id": "5f16ca96",
   "metadata": {},
   "outputs": [
    {
     "data": {
      "text/plain": [
       "batting_team    Australia\n",
       "bowling_team    Sri Lanka\n",
       "city            Pallekele\n",
       "total_runs            263\n",
       "year                 2016\n",
       "Name: 50351, dtype: object"
      ]
     },
     "execution_count": 46,
     "metadata": {},
     "output_type": "execute_result"
    }
   ],
   "source": [
    "data.loc[50351, ['batting_team', 'bowling_team', 'city', 'total_runs', 'year']]"
   ]
  },
  {
   "cell_type": "markdown",
   "id": "dee8fffa",
   "metadata": {},
   "source": [
    "### Most runs was Scored by Australia against Srilanka in 2016 at Pallekele which was 263 runs"
   ]
  },
  {
   "cell_type": "code",
   "execution_count": 47,
   "id": "96c8f433",
   "metadata": {},
   "outputs": [
    {
     "data": {
      "text/plain": [
       "39012"
      ]
     },
     "execution_count": 47,
     "metadata": {},
     "output_type": "execute_result"
    }
   ],
   "source": [
    "data['total_runs'].idxmin()"
   ]
  },
  {
   "cell_type": "code",
   "execution_count": 48,
   "id": "0775fc43",
   "metadata": {},
   "outputs": [
    {
     "data": {
      "text/plain": [
       "batting_team    Afghanistan\n",
       "bowling_team     Bangladesh\n",
       "city                 Mirpur\n",
       "total_runs               72\n",
       "year                   2014\n",
       "Name: 39012, dtype: object"
      ]
     },
     "execution_count": 48,
     "metadata": {},
     "output_type": "execute_result"
    }
   ],
   "source": [
    "data.loc[39012, ['batting_team', 'bowling_team', 'city', 'total_runs', 'year']]"
   ]
  },
  {
   "cell_type": "markdown",
   "id": "f31cb65b",
   "metadata": {},
   "source": [
    "### Least runs was Scored by Afghanistan against Bangladesh in 2014 at Mirpur which was 72 runs"
   ]
  },
  {
   "cell_type": "code",
   "execution_count": 73,
   "id": "46ce3dc4",
   "metadata": {},
   "outputs": [
    {
     "data": {
      "text/html": [
       "<div>\n",
       "<style scoped>\n",
       "    .dataframe tbody tr th:only-of-type {\n",
       "        vertical-align: middle;\n",
       "    }\n",
       "\n",
       "    .dataframe tbody tr th {\n",
       "        vertical-align: top;\n",
       "    }\n",
       "\n",
       "    .dataframe thead th {\n",
       "        text-align: right;\n",
       "    }\n",
       "</style>\n",
       "<table border=\"1\" class=\"dataframe\">\n",
       "  <thead>\n",
       "    <tr style=\"text-align: right;\">\n",
       "      <th></th>\n",
       "      <th>total_runs</th>\n",
       "    </tr>\n",
       "    <tr>\n",
       "      <th>batting_team</th>\n",
       "      <th></th>\n",
       "    </tr>\n",
       "  </thead>\n",
       "  <tbody>\n",
       "    <tr>\n",
       "      <th>Afghanistan</th>\n",
       "      <td>66537</td>\n",
       "    </tr>\n",
       "    <tr>\n",
       "      <th>Australia</th>\n",
       "      <td>695351</td>\n",
       "    </tr>\n",
       "    <tr>\n",
       "      <th>Bangladesh</th>\n",
       "      <td>285612</td>\n",
       "    </tr>\n",
       "    <tr>\n",
       "      <th>England</th>\n",
       "      <td>583175</td>\n",
       "    </tr>\n",
       "    <tr>\n",
       "      <th>India</th>\n",
       "      <td>726428</td>\n",
       "    </tr>\n",
       "    <tr>\n",
       "      <th>New Zealand</th>\n",
       "      <td>900500</td>\n",
       "    </tr>\n",
       "    <tr>\n",
       "      <th>Pakistan</th>\n",
       "      <td>795679</td>\n",
       "    </tr>\n",
       "    <tr>\n",
       "      <th>South Africa</th>\n",
       "      <td>763222</td>\n",
       "    </tr>\n",
       "    <tr>\n",
       "      <th>Sri Lanka</th>\n",
       "      <td>753237</td>\n",
       "    </tr>\n",
       "    <tr>\n",
       "      <th>West Indies</th>\n",
       "      <td>591658</td>\n",
       "    </tr>\n",
       "  </tbody>\n",
       "</table>\n",
       "</div>"
      ],
      "text/plain": [
       "              total_runs\n",
       "batting_team            \n",
       "Afghanistan        66537\n",
       "Australia         695351\n",
       "Bangladesh        285612\n",
       "England           583175\n",
       "India             726428\n",
       "New Zealand       900500\n",
       "Pakistan          795679\n",
       "South Africa      763222\n",
       "Sri Lanka         753237\n",
       "West Indies       591658"
      ]
     },
     "execution_count": 73,
     "metadata": {},
     "output_type": "execute_result"
    }
   ],
   "source": [
    "grouped_df = data.groupby('batting_team')['total_runs'].sum()\n",
    "grouped_df\n",
    "runs_each_team = grouped_df.loc[:, ['total_runs']]\n",
    "runs_each_team"
   ]
  },
  {
   "cell_type": "code",
   "execution_count": 86,
   "id": "88797a67",
   "metadata": {},
   "outputs": [],
   "source": [
    "total_runs_eachTeam = pd.DataFrame(data, index = index)"
   ]
  },
  {
   "cell_type": "code",
   "execution_count": 90,
   "id": "a8ead151",
   "metadata": {},
   "outputs": [
    {
     "data": {
      "text/html": [
       "<div>\n",
       "<style scoped>\n",
       "    .dataframe tbody tr th:only-of-type {\n",
       "        vertical-align: middle;\n",
       "    }\n",
       "\n",
       "    .dataframe tbody tr th {\n",
       "        vertical-align: top;\n",
       "    }\n",
       "\n",
       "    .dataframe thead th {\n",
       "        text-align: right;\n",
       "    }\n",
       "</style>\n",
       "<table border=\"1\" class=\"dataframe\">\n",
       "  <thead>\n",
       "    <tr style=\"text-align: right;\">\n",
       "      <th></th>\n",
       "      <th>Teams</th>\n",
       "      <th>total_runs</th>\n",
       "    </tr>\n",
       "  </thead>\n",
       "  <tbody>\n",
       "    <tr>\n",
       "      <th>1</th>\n",
       "      <td>Afghanistan</td>\n",
       "      <td>66537</td>\n",
       "    </tr>\n",
       "    <tr>\n",
       "      <th>2</th>\n",
       "      <td>Australia</td>\n",
       "      <td>695351</td>\n",
       "    </tr>\n",
       "    <tr>\n",
       "      <th>3</th>\n",
       "      <td>Bangladesh</td>\n",
       "      <td>285612</td>\n",
       "    </tr>\n",
       "    <tr>\n",
       "      <th>4</th>\n",
       "      <td>England</td>\n",
       "      <td>583175</td>\n",
       "    </tr>\n",
       "    <tr>\n",
       "      <th>5</th>\n",
       "      <td>India</td>\n",
       "      <td>726428</td>\n",
       "    </tr>\n",
       "    <tr>\n",
       "      <th>6</th>\n",
       "      <td>New Zealand</td>\n",
       "      <td>900500</td>\n",
       "    </tr>\n",
       "    <tr>\n",
       "      <th>7</th>\n",
       "      <td>Pakistan</td>\n",
       "      <td>795679</td>\n",
       "    </tr>\n",
       "    <tr>\n",
       "      <th>8</th>\n",
       "      <td>South Africa</td>\n",
       "      <td>763222</td>\n",
       "    </tr>\n",
       "    <tr>\n",
       "      <th>9</th>\n",
       "      <td>Sri Lanka</td>\n",
       "      <td>753237</td>\n",
       "    </tr>\n",
       "    <tr>\n",
       "      <th>10</th>\n",
       "      <td>West Indies</td>\n",
       "      <td>591658</td>\n",
       "    </tr>\n",
       "  </tbody>\n",
       "</table>\n",
       "</div>"
      ],
      "text/plain": [
       "           Teams  total_runs\n",
       "1    Afghanistan       66537\n",
       "2      Australia      695351\n",
       "3     Bangladesh      285612\n",
       "4        England      583175\n",
       "5          India      726428\n",
       "6    New Zealand      900500\n",
       "7       Pakistan      795679\n",
       "8   South Africa      763222\n",
       "9      Sri Lanka      753237\n",
       "10   West Indies      591658"
      ]
     },
     "execution_count": 90,
     "metadata": {},
     "output_type": "execute_result"
    }
   ],
   "source": [
    "total_runs_eachTeam"
   ]
  },
  {
   "cell_type": "code",
   "execution_count": 100,
   "id": "fe2eec13",
   "metadata": {},
   "outputs": [
    {
     "data": {
      "image/png": "[encoded data removed]",
      "text/plain": [
       "<Figure size 640x480 with 1 Axes>"
      ]
     },
     "metadata": {},
     "output_type": "display_data"
    }
   ],
   "source": [
    "plt.bar(x=total_runs_eachTeam['Teams'], height=total_runs_eachTeam['total_runs'])\n",
    "plt.xlabel('Categories')\n",
    "plt.ylabel('Values')\n",
    "plt.title('Total runs by each team')\n",
    "plt.xticks(rotation=45, ha='right')\n",
    "plt.show()"
   ]
  },
  {
   "cell_type": "code",
   "execution_count": 102,
   "id": "07d00f1e",
   "metadata": {},
   "outputs": [],
   "source": [
    "win_df = pickle.load(open('dataset_level1.pkl', 'rb'))"
   ]
  },
  {
   "cell_type": "code",
   "execution_count": 105,
   "id": "c6ef09b8",
   "metadata": {},
   "outputs": [],
   "source": [
    "teams = [\n",
    "    'Australia',\n",
    "    'India',\n",
    "    'Bangladesh',\n",
    "    'New Zealand',\n",
    "    'South Africa',\n",
    "    'England',\n",
    "    'West Indies',\n",
    "    'Afghanistan',\n",
    "    'Pakistan',\n",
    "    'Sri Lanka'    \n",
    "]"
   ]
  },
  {
   "cell_type": "code",
   "execution_count": 113,
   "id": "fe72aab1",
   "metadata": {},
   "outputs": [],
   "source": [
    "win_df = win_df[win_df['info.outcome.winner'].isin(teams)]"
   ]
  },
  {
   "cell_type": "code",
   "execution_count": 117,
   "id": "48a31eea",
   "metadata": {},
   "outputs": [],
   "source": [
    "most_wins = win_df['info.outcome.winner'].value_counts()"
   ]
  },
  {
   "cell_type": "code",
   "execution_count": 120,
   "id": "23b03526",
   "metadata": {},
   "outputs": [
    {
     "data": {
      "text/plain": [
       "Pakistan        95\n",
       "India           85\n",
       "Australia       69\n",
       "South Africa    69\n",
       "New Zealand     64\n",
       "England         64\n",
       "Sri Lanka       57\n",
       "West Indies     52\n",
       "Afghanistan     51\n",
       "Bangladesh      29\n",
       "Name: info.outcome.winner, dtype: int64"
      ]
     },
     "execution_count": 120,
     "metadata": {},
     "output_type": "execute_result"
    }
   ],
   "source": [
    "most_wins"
   ]
  },
  {
   "cell_type": "markdown",
   "id": "8e30c329",
   "metadata": {},
   "source": [
    "### Pakistan won the most T20 matches in the span of 2005-2020\n",
    "### and Afghanistan being the least"
   ]
  },
  {
   "cell_type": "code",
   "execution_count": 126,
   "id": "c777f780",
   "metadata": {},
   "outputs": [],
   "source": [
    "city_valuecounts = data['city'].value_counts()"
   ]
  },
  {
   "cell_type": "code",
   "execution_count": 129,
   "id": "73259f1b",
   "metadata": {},
   "outputs": [],
   "source": [
    "most_played_city = pd.DataFrame({'City': city_valuecounts.index, 'Balls bowled': city_valuecounts.values})"
   ]
  },
  {
   "cell_type": "code",
   "execution_count": 130,
   "id": "172ae01c",
   "metadata": {},
   "outputs": [
    {
     "data": {
      "text/html": [
       "<div>\n",
       "<style scoped>\n",
       "    .dataframe tbody tr th:only-of-type {\n",
       "        vertical-align: middle;\n",
       "    }\n",
       "\n",
       "    .dataframe tbody tr th {\n",
       "        vertical-align: top;\n",
       "    }\n",
       "\n",
       "    .dataframe thead th {\n",
       "        text-align: right;\n",
       "    }\n",
       "</style>\n",
       "<table border=\"1\" class=\"dataframe\">\n",
       "  <thead>\n",
       "    <tr style=\"text-align: right;\">\n",
       "      <th></th>\n",
       "      <th>City</th>\n",
       "      <th>Balls bowled</th>\n",
       "    </tr>\n",
       "  </thead>\n",
       "  <tbody>\n",
       "    <tr>\n",
       "      <th>0</th>\n",
       "      <td>Colombo</td>\n",
       "      <td>3129</td>\n",
       "    </tr>\n",
       "    <tr>\n",
       "      <th>1</th>\n",
       "      <td>Mirpur</td>\n",
       "      <td>2608</td>\n",
       "    </tr>\n",
       "    <tr>\n",
       "      <th>2</th>\n",
       "      <td>Johannesburg</td>\n",
       "      <td>2548</td>\n",
       "    </tr>\n",
       "    <tr>\n",
       "      <th>3</th>\n",
       "      <td>Dubai</td>\n",
       "      <td>2273</td>\n",
       "    </tr>\n",
       "    <tr>\n",
       "      <th>4</th>\n",
       "      <td>Auckland</td>\n",
       "      <td>1923</td>\n",
       "    </tr>\n",
       "    <tr>\n",
       "      <th>5</th>\n",
       "      <td>Cape Town</td>\n",
       "      <td>1818</td>\n",
       "    </tr>\n",
       "    <tr>\n",
       "      <th>6</th>\n",
       "      <td>London</td>\n",
       "      <td>1611</td>\n",
       "    </tr>\n",
       "    <tr>\n",
       "      <th>7</th>\n",
       "      <td>Pallekele</td>\n",
       "      <td>1573</td>\n",
       "    </tr>\n",
       "    <tr>\n",
       "      <th>8</th>\n",
       "      <td>Barbados</td>\n",
       "      <td>1557</td>\n",
       "    </tr>\n",
       "    <tr>\n",
       "      <th>9</th>\n",
       "      <td>Sydney</td>\n",
       "      <td>1202</td>\n",
       "    </tr>\n",
       "    <tr>\n",
       "      <th>10</th>\n",
       "      <td>Melbourne</td>\n",
       "      <td>1197</td>\n",
       "    </tr>\n",
       "    <tr>\n",
       "      <th>11</th>\n",
       "      <td>Durban</td>\n",
       "      <td>1143</td>\n",
       "    </tr>\n",
       "    <tr>\n",
       "      <th>12</th>\n",
       "      <td>St Lucia</td>\n",
       "      <td>1139</td>\n",
       "    </tr>\n",
       "    <tr>\n",
       "      <th>13</th>\n",
       "      <td>Wellington</td>\n",
       "      <td>1031</td>\n",
       "    </tr>\n",
       "    <tr>\n",
       "      <th>14</th>\n",
       "      <td>Lauderhill</td>\n",
       "      <td>948</td>\n",
       "    </tr>\n",
       "    <tr>\n",
       "      <th>15</th>\n",
       "      <td>Hamilton</td>\n",
       "      <td>929</td>\n",
       "    </tr>\n",
       "    <tr>\n",
       "      <th>16</th>\n",
       "      <td>Centurion</td>\n",
       "      <td>899</td>\n",
       "    </tr>\n",
       "    <tr>\n",
       "      <th>17</th>\n",
       "      <td>Manchester</td>\n",
       "      <td>854</td>\n",
       "    </tr>\n",
       "    <tr>\n",
       "      <th>18</th>\n",
       "      <td>Abu Dhabi</td>\n",
       "      <td>838</td>\n",
       "    </tr>\n",
       "    <tr>\n",
       "      <th>19</th>\n",
       "      <td>Mumbai</td>\n",
       "      <td>763</td>\n",
       "    </tr>\n",
       "    <tr>\n",
       "      <th>20</th>\n",
       "      <td>Nottingham</td>\n",
       "      <td>759</td>\n",
       "    </tr>\n",
       "    <tr>\n",
       "      <th>21</th>\n",
       "      <td>Southampton</td>\n",
       "      <td>755</td>\n",
       "    </tr>\n",
       "    <tr>\n",
       "      <th>22</th>\n",
       "      <td>Mount Maunganui</td>\n",
       "      <td>690</td>\n",
       "    </tr>\n",
       "    <tr>\n",
       "      <th>23</th>\n",
       "      <td>Chittagong</td>\n",
       "      <td>665</td>\n",
       "    </tr>\n",
       "    <tr>\n",
       "      <th>24</th>\n",
       "      <td>Kolkata</td>\n",
       "      <td>641</td>\n",
       "    </tr>\n",
       "    <tr>\n",
       "      <th>25</th>\n",
       "      <td>Lahore</td>\n",
       "      <td>574</td>\n",
       "    </tr>\n",
       "    <tr>\n",
       "      <th>26</th>\n",
       "      <td>Delhi</td>\n",
       "      <td>565</td>\n",
       "    </tr>\n",
       "    <tr>\n",
       "      <th>27</th>\n",
       "      <td>Nagpur</td>\n",
       "      <td>561</td>\n",
       "    </tr>\n",
       "    <tr>\n",
       "      <th>28</th>\n",
       "      <td>Chandigarh</td>\n",
       "      <td>482</td>\n",
       "    </tr>\n",
       "    <tr>\n",
       "      <th>29</th>\n",
       "      <td>Adelaide</td>\n",
       "      <td>478</td>\n",
       "    </tr>\n",
       "    <tr>\n",
       "      <th>30</th>\n",
       "      <td>Bangalore</td>\n",
       "      <td>475</td>\n",
       "    </tr>\n",
       "    <tr>\n",
       "      <th>31</th>\n",
       "      <td>Cardiff</td>\n",
       "      <td>470</td>\n",
       "    </tr>\n",
       "    <tr>\n",
       "      <th>32</th>\n",
       "      <td>Christchurch</td>\n",
       "      <td>469</td>\n",
       "    </tr>\n",
       "    <tr>\n",
       "      <th>33</th>\n",
       "      <td>Trinidad</td>\n",
       "      <td>466</td>\n",
       "    </tr>\n",
       "    <tr>\n",
       "      <th>34</th>\n",
       "      <td>St Kitts</td>\n",
       "      <td>444</td>\n",
       "    </tr>\n",
       "  </tbody>\n",
       "</table>\n",
       "</div>"
      ],
      "text/plain": [
       "               City  Balls bowled\n",
       "0           Colombo          3129\n",
       "1            Mirpur          2608\n",
       "2      Johannesburg          2548\n",
       "3             Dubai          2273\n",
       "4          Auckland          1923\n",
       "5         Cape Town          1818\n",
       "6            London          1611\n",
       "7         Pallekele          1573\n",
       "8          Barbados          1557\n",
       "9            Sydney          1202\n",
       "10        Melbourne          1197\n",
       "11           Durban          1143\n",
       "12         St Lucia          1139\n",
       "13       Wellington          1031\n",
       "14       Lauderhill           948\n",
       "15         Hamilton           929\n",
       "16        Centurion           899\n",
       "17       Manchester           854\n",
       "18        Abu Dhabi           838\n",
       "19           Mumbai           763\n",
       "20       Nottingham           759\n",
       "21      Southampton           755\n",
       "22  Mount Maunganui           690\n",
       "23       Chittagong           665\n",
       "24          Kolkata           641\n",
       "25           Lahore           574\n",
       "26            Delhi           565\n",
       "27           Nagpur           561\n",
       "28       Chandigarh           482\n",
       "29         Adelaide           478\n",
       "30        Bangalore           475\n",
       "31          Cardiff           470\n",
       "32     Christchurch           469\n",
       "33         Trinidad           466\n",
       "34         St Kitts           444"
      ]
     },
     "execution_count": 130,
     "metadata": {},
     "output_type": "execute_result"
    }
   ],
   "source": [
    "most_played_city"
   ]
  },
  {
   "cell_type": "code",
   "execution_count": 131,
   "id": "1e0b9c7e",
   "metadata": {},
   "outputs": [],
   "source": [
    "most_played_10_cities = most_played_city.head(10)"
   ]
  },
  {
   "cell_type": "markdown",
   "id": "acadd5a8",
   "metadata": {},
   "source": [
    "### Top 10 Cities which hosted the Most Matches"
   ]
  },
  {
   "cell_type": "code",
   "execution_count": 132,
   "id": "fb3a7f28",
   "metadata": {},
   "outputs": [
    {
     "data": {
      "text/html": [
       "<div>\n",
       "<style scoped>\n",
       "    .dataframe tbody tr th:only-of-type {\n",
       "        vertical-align: middle;\n",
       "    }\n",
       "\n",
       "    .dataframe tbody tr th {\n",
       "        vertical-align: top;\n",
       "    }\n",
       "\n",
       "    .dataframe thead th {\n",
       "        text-align: right;\n",
       "    }\n",
       "</style>\n",
       "<table border=\"1\" class=\"dataframe\">\n",
       "  <thead>\n",
       "    <tr style=\"text-align: right;\">\n",
       "      <th></th>\n",
       "      <th>City</th>\n",
       "      <th>Balls bowled</th>\n",
       "    </tr>\n",
       "  </thead>\n",
       "  <tbody>\n",
       "    <tr>\n",
       "      <th>0</th>\n",
       "      <td>Colombo</td>\n",
       "      <td>3129</td>\n",
       "    </tr>\n",
       "    <tr>\n",
       "      <th>1</th>\n",
       "      <td>Mirpur</td>\n",
       "      <td>2608</td>\n",
       "    </tr>\n",
       "    <tr>\n",
       "      <th>2</th>\n",
       "      <td>Johannesburg</td>\n",
       "      <td>2548</td>\n",
       "    </tr>\n",
       "    <tr>\n",
       "      <th>3</th>\n",
       "      <td>Dubai</td>\n",
       "      <td>2273</td>\n",
       "    </tr>\n",
       "    <tr>\n",
       "      <th>4</th>\n",
       "      <td>Auckland</td>\n",
       "      <td>1923</td>\n",
       "    </tr>\n",
       "    <tr>\n",
       "      <th>5</th>\n",
       "      <td>Cape Town</td>\n",
       "      <td>1818</td>\n",
       "    </tr>\n",
       "    <tr>\n",
       "      <th>6</th>\n",
       "      <td>London</td>\n",
       "      <td>1611</td>\n",
       "    </tr>\n",
       "    <tr>\n",
       "      <th>7</th>\n",
       "      <td>Pallekele</td>\n",
       "      <td>1573</td>\n",
       "    </tr>\n",
       "    <tr>\n",
       "      <th>8</th>\n",
       "      <td>Barbados</td>\n",
       "      <td>1557</td>\n",
       "    </tr>\n",
       "    <tr>\n",
       "      <th>9</th>\n",
       "      <td>Sydney</td>\n",
       "      <td>1202</td>\n",
       "    </tr>\n",
       "  </tbody>\n",
       "</table>\n",
       "</div>"
      ],
      "text/plain": [
       "           City  Balls bowled\n",
       "0       Colombo          3129\n",
       "1        Mirpur          2608\n",
       "2  Johannesburg          2548\n",
       "3         Dubai          2273\n",
       "4      Auckland          1923\n",
       "5     Cape Town          1818\n",
       "6        London          1611\n",
       "7     Pallekele          1573\n",
       "8      Barbados          1557\n",
       "9        Sydney          1202"
      ]
     },
     "execution_count": 132,
     "metadata": {},
     "output_type": "execute_result"
    }
   ],
   "source": [
    "most_played_10_cities"
   ]
  },
  {
   "cell_type": "markdown",
   "id": "c58a44fd",
   "metadata": {},
   "source": [
    "#### -Colombo Hosted the most matches followed by Mirpur"
   ]
  },
  {
   "cell_type": "code",
   "execution_count": null,
   "id": "e341784a",
   "metadata": {},
   "outputs": [],
   "source": []
  }
 ],
 "metadata": {
  "kernelspec": {
   "display_name": "Python 3 (ipykernel)",
   "language": "python",
   "name": "python3"
  },
  "language_info": {
   "codemirror_mode": {
    "name": "ipython",
    "version": 3
   },
   "file_extension": ".py",
   "mimetype": "text/x-python",
   "name": "python",
   "nbconvert_exporter": "python",
   "pygments_lexer": "ipython3",
   "version": "3.9.13"
  }
 },
 "nbformat": 4,
 "nbformat_minor": 5
}
